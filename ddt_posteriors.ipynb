{
 "cells": [
  {
   "cell_type": "code",
   "execution_count": null,
   "metadata": {},
   "outputs": [],
   "source": [
    "%load_ext autoreload\n",
    "%autoreload 2\n",
    "import lenstronomy\n",
    "import numpy as np\n",
    "import h5py\n",
    "import matplotlib.pyplot as plt\n",
    "import pandas as pd\n",
    "\n",
    "# lenstronomy stuff\n",
    "from astropy.cosmology import FlatLambdaCDM\n",
    "from lenstronomy.LensModel.lens_model import LensModel\n",
    "from lenstronomy.PointSource.point_source import PointSource\n",
    "from lenstronomy.Plots import lens_plot\n",
    "from lenstronomy.LensModel.Solver.lens_equation_solver import LensEquationSolver\n"
   ]
  },
  {
   "cell_type": "markdown",
   "metadata": {},
   "source": [
    "- need to start with defining the ground truth? \n",
    "- you can have ground truth lens parameters, ground truth H_0, \n",
    "- a table of ground truth params, predicted params, etc?\n",
    "\n",
    "1. define ground truth lens params (either from a catalog or generate randomly)\n",
    "2. construct emulated posteriors for those lens params\n",
    "3. define ground truth H-0\n",
    "4. compute ground truth time delays\n",
    "5. constructed emulated time delay measurement\n",
    "6. construct Ddt posteriors from lens param posterior + time delay measurement"
   ]
  },
  {
   "cell_type": "code",
   "execution_count": null,
   "metadata": {},
   "outputs": [],
   "source": [
    "y_pred_doppel_seq_list = np.load('/Users/smericks/Desktop/StrongLensing/STRIDES14results/paper_results/doppelganger_test_set/results/y_pred_list_epoch10.npy')\n",
    "std_pred_doppel_seq_list = np.load('/Users/smericks/Desktop/StrongLensing/STRIDES14results/paper_results/doppelganger_test_set/results/std_pred_list_epoch10.npy')\n",
    "\n",
    "# load in predictions from broad training\n",
    "file_prefix = '/Users/smericks/Desktop/StrongLensing/STRIDES14results/paper_results/broad_training/diag_no_R_src/J2145_rerun_take2/'\n",
    "file_prefix = '/Users/smericks/Desktop/StrongLensing/STRIDES14results/paper_results/broad_training/diag_no_R_src/J2145_rerun_take2/'\n",
    "file_path = file_prefix+'doppelganger_predictions.h5'\n",
    "h5f = h5py.File(file_path, 'r')\n",
    "y_test_doppel = h5f.get('y_test')[:]\n",
    "h5f.close()\n",
    "\n",
    "# ordering is 0x,1x,2x,4x\n",
    "y_pred_doppel = y_pred_doppel_seq_list[2]\n",
    "std_pred_doppel = std_pred_doppel_seq_list[2]"
   ]
  },
  {
   "cell_type": "code",
   "execution_count": null,
   "metadata": {},
   "outputs": [],
   "source": [
    "import lens_sample\n",
    "\n",
    "my_sample = lens_sample.LensSample(y_test_doppel,y_pred_doppel,std_pred_doppel,param_indices=[0,3,4,5,6,7,1,2,8,9])"
   ]
  },
  {
   "cell_type": "markdown",
   "metadata": {},
   "source": [
    "For both y_pred and y_truth\n",
    "\n",
    "1. compute image positions (maybe just for y_truth?)\n",
    "2. Compute fermat potential differences\n",
    "3. Compute Ddt\n",
    "    somewhere in here I need to assume some redshifts...\n",
    "4. Compute H-0 and see the difference\n",
    "\n",
    "\n",
    "imagining a table with\n",
    "['lens_index','theta_E_truth','gamma_lens_truth',...,'theta_E_mu','gamma_lens_mu',...'theta_E_stddev','gamma_lens_mu',...,'z_lens','z_src']"
   ]
  },
  {
   "cell_type": "markdown",
   "metadata": {},
   "source": [
    "# TODO: \n",
    "- for time delays, let's assert 5 days error for 5 season measurement, 2 days for 10 season measurement"
   ]
  },
  {
   "cell_type": "code",
   "execution_count": null,
   "metadata": {},
   "outputs": [],
   "source": []
  }
 ],
 "metadata": {
  "kernelspec": {
   "display_name": "forecast_env",
   "language": "python",
   "name": "python3"
  },
  "language_info": {
   "codemirror_mode": {
    "name": "ipython",
    "version": 3
   },
   "file_extension": ".py",
   "mimetype": "text/x-python",
   "name": "python",
   "nbconvert_exporter": "python",
   "pygments_lexer": "ipython3",
   "version": "3.9.19"
  }
 },
 "nbformat": 4,
 "nbformat_minor": 2
}
