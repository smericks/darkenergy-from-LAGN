{
 "cells": [
  {
   "cell_type": "code",
   "execution_count": null,
   "metadata": {},
   "outputs": [],
   "source": [
    "%load_ext autoreload\n",
    "%autoreload 2\n",
    "import pandas as pd\n",
    "import numpy as np\n",
    "import matplotlib.pyplot as plt\n",
    "from astropy.visualization import AsinhStretch, ImageNormalize\n",
    "import sys\n",
    "sys.path.insert(0, '/Users/smericks/Desktop/StrongLensing/darkenergy-from-lagn/')\n",
    "from lens_catalog import OM10LensCatalog"
   ]
  },
  {
   "cell_type": "markdown",
   "metadata": {},
   "source": [
    "## Investigate a $v_{rms}$ map from SKiNN ##"
   ]
  },
  {
   "cell_type": "markdown",
   "metadata": {},
   "source": []
  },
  {
   "cell_type": "code",
   "execution_count": null,
   "metadata": {},
   "outputs": [],
   "source": [
    "gt_lenses = OM10LensCatalog('../MassModels/om10_sample/om10_venkatraman_erickson24.csv')\n",
    "om10_catalog = pd.read_csv('../MassModels/om10_sample/om10_venkatraman_erickson24.csv')"
   ]
  },
  {
   "cell_type": "code",
   "execution_count": 20,
   "metadata": {},
   "outputs": [],
   "source": [
    "hst_images = np.load('../MassModels/om10_sample/hst_images.npy')"
   ]
  },
  {
   "cell_type": "code",
   "execution_count": null,
   "metadata": {},
   "outputs": [],
   "source": [
    "vrms_maps = np.load('first10_vrms.npy')\n",
    "vrms_maps_i85 = np.load('first10_vrms_i85.npy')\n",
    "\n",
    "zoom_pix = 30\n",
    "\n",
    "fig,axs = plt.subplots(2,5,dpi=200,figsize=(6,2))\n",
    "image_norm = ImageNormalize(hst_images[3],stretch=AsinhStretch())\n",
    "vrms_norm = ImageNormalize(vrms_maps[0])\n",
    "for i in range(0,5):\n",
    "    plt_im = axs[0,i%5].matshow(hst_images[i][zoom_pix:-zoom_pix,zoom_pix:-zoom_pix],norm=image_norm)\n",
    "    plt.plot()\n",
    "    min=60+(zoom_pix*2)\n",
    "    plt_vrms = axs[1,i%5].matshow(vrms_maps[i][min:-min,min:-min],norm=vrms_norm)\n",
    "    axs[0,i%5].set_xticks([])\n",
    "    axs[0,i%5].set_yticks([])\n",
    "    axs[1,i%5].set_xticks([])\n",
    "    axs[1,i%5].set_yticks([])\n",
    "    #if i == 4:\n",
    "    #    cbar = fig.colorbar(plt_im,ax=axs[0,5])\n",
    "    #    cbar = fig.colorbar(plt_vrms,ax=axs[1,5])\n",
    "    #    axs[0, 5].axis('off')\n",
    "    #    axs[1, 5].axis('off')\n",
    "        #fig.colorbar(plt_im, ax=axs[0, 5], orientation='vertical')\n",
    "        #fig.colorbar(plt_vrms, ax=axs[1, 5], orientation='vertical')\n",
    "fig.subplots_adjust(right=0.8)\n",
    "cbar_ax = fig.add_axes([0.82, 0.53, 0.015, 0.35])\n",
    "fig.colorbar(plt_im, cax=cbar_ax)\n",
    "cbar_ax = fig.add_axes([0.82, 0.11, 0.015, 0.35])\n",
    "fig.colorbar(plt_vrms, cax=cbar_ax)\n",
    "plt.suptitle('i=90')\n",
    "\n",
    "\"\"\"\n",
    "fig,axs = plt.subplots(2,5,dpi=200,figsize=(5,2))\n",
    "for i in range(0,10):\n",
    "    axs[i//5,i%5].matshow(vrms_maps_i85[i])\n",
    "    axs[i//5,i%5].set_xticks([])\n",
    "    axs[i//5,i%5].set_yticks([])\n",
    "plt.suptitle('i=85')\n",
    "\"\"\""
   ]
  },
  {
   "cell_type": "code",
   "execution_count": null,
   "metadata": {},
   "outputs": [],
   "source": []
  }
 ],
 "metadata": {
  "kernelspec": {
   "display_name": "forecast_env",
   "language": "python",
   "name": "python3"
  },
  "language_info": {
   "codemirror_mode": {
    "name": "ipython",
    "version": 3
   },
   "file_extension": ".py",
   "mimetype": "text/x-python",
   "name": "python",
   "nbconvert_exporter": "python",
   "pygments_lexer": "ipython3",
   "version": "3.9.19"
  }
 },
 "nbformat": 4,
 "nbformat_minor": 2
}
