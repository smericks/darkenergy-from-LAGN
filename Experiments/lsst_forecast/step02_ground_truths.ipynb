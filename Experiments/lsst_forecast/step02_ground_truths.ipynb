{
 "cells": [
  {
   "cell_type": "markdown",
   "id": "c21db23d",
   "metadata": {},
   "source": [
    "# Step 2: Compute ground truths (fermat potentials, time-delays, kinematics) #"
   ]
  },
  {
   "cell_type": "markdown",
   "id": "ef7ae33b",
   "metadata": {},
   "source": [
    "### Note: This notebook runs in the forecast_env ###"
   ]
  },
  {
   "cell_type": "code",
   "execution_count": null,
   "id": "9322186e",
   "metadata": {},
   "outputs": [],
   "source": [
    "%load_ext autoreload\n",
    "%autoreload 2\n",
    "import pandas as pd\n",
    "import numpy as np\n",
    "import matplotlib.pyplot as plt\n",
    "import h5py\n",
    "import copy\n",
    "import os\n",
    "import sys\n",
    "sys.path.insert(0, '/Users/smericks/Desktop/StrongLensing/darkenergy-from-LAGN/')\n",
    "import Utils.ground_truth_utils as gt_utils\n",
    "from astropy.cosmology import FlatLambdaCDM"
   ]
  },
  {
   "cell_type": "markdown",
   "id": "db4d1a2d",
   "metadata": {},
   "source": [
    "Choice of ground truth cosmology: "
   ]
  },
  {
   "cell_type": "code",
   "execution_count": null,
   "id": "8c956c48",
   "metadata": {},
   "outputs": [],
   "source": [
    "gt_cosmo = FlatLambdaCDM(H0=70.,Om0=0.3)"
   ]
  },
  {
   "cell_type": "markdown",
   "id": "ef2936e3",
   "metadata": {},
   "source": [
    "Compute fermat potentials, time-delays, kinematics"
   ]
  },
  {
   "cell_type": "code",
   "execution_count": null,
   "id": "fe392480",
   "metadata": {},
   "outputs": [],
   "source": [
    "# load in metadata.csv\n",
    "metadata_gold = pd.read_csv('DataVectors/gold/truth_metadata.csv')\n",
    "metadata_silver = pd.read_csv('DataVectors/silver/truth_metadata.csv')\n",
    "\n",
    "# write in truth info\n",
    "for metadata_df in [metadata_gold,metadata_silver]:\n",
    "    gt_utils.populate_fermat_differences(metadata_df)\n",
    "    gt_utils.populate_truth_Ddt_timedelays(metadata_df,gt_cosmo)"
   ]
  },
  {
   "cell_type": "markdown",
   "id": "31657afc",
   "metadata": {},
   "source": [
    "Check for lenses with discrepant time-delays (leftover artifact from numerical lens solving...)"
   ]
  },
  {
   "cell_type": "code",
   "execution_count": null,
   "id": "85d086ff",
   "metadata": {},
   "outputs": [],
   "source": [
    "diff_td01 = metadata_gold.loc[:,'td01'] - metadata_silver.loc[:,'td01']\n",
    "plt.hist(diff_td01,bins=20)\n",
    "plt.title('Doubles + Quads $\\Delta$td01')\n",
    "plt.show()\n",
    "\n",
    "remove_idx = np.where(np.abs(diff_td01) > 0.01)[0] # this is just one lens right now...\n",
    "remove_catalog_idx = metadata_gold.loc[remove_idx,'catalog_idx'].to_numpy()\n",
    "keep_idx = np.where(np.abs(diff_td01) < 0.01)[0]\n",
    "\n",
    "# and what about quads... (these are fine right now...)\n",
    "quads_idx = np.where(metadata_gold.loc[:,'point_source_parameters_num_images'].to_numpy() == 4)[0]\n",
    "diff_td03 = metadata_gold.loc[quads_idx,'td03'] - metadata_silver.loc[quads_idx,'td03']\n",
    "plt.figure()\n",
    "plt.hist(diff_td03,bins=20)\n",
    "plt.title('Quads $\\Delta$td03')\n",
    "plt.show()"
   ]
  },
  {
   "cell_type": "markdown",
   "id": "abd6970a",
   "metadata": {},
   "source": [
    "Remove from data vectors and save new products"
   ]
  },
  {
   "cell_type": "code",
   "execution_count": null,
   "id": "451a3114",
   "metadata": {},
   "outputs": [],
   "source": [
    "# Modify and save truth_metadata.csv\n",
    "metadata_gold = metadata_gold[~metadata_gold['catalog_idx'].isin(remove_catalog_idx)]\n",
    "metadata_gold.to_csv('DataVectors/gold/truth_metadata.csv')\n",
    "metadata_silver = metadata_silver[~metadata_silver['catalog_idx'].isin(remove_catalog_idx)]\n",
    "metadata_silver.to_csv('DataVectors/silver/truth_metadata.csv')\n",
    "\n",
    "# Modify and save image_models.h5\n",
    "for quality in ['gold','silver']:\n",
    "    images_path = 'DataVectors/'+quality+'/image_models.h5'\n",
    "    h5 = h5py.File(images_path, 'r+')\n",
    "    \n",
    "    # remove via catalog_idx to avoid deleting repeatedly\n",
    "    catalog_idxs = h5['catalog_idx']\n",
    "    h5_idx_to_remove = []\n",
    "    for rci in(remove_catalog_idx):\n",
    "        bad_idx = np.where(catalog_idxs == rci)[0]\n",
    "        if len(bad_idx) > 0:\n",
    "            h5_idx_to_remove.append(bad_idx.item())\n",
    "    \n",
    "    # remove bad idx(s) from all things stored in .h5 files!\n",
    "    for data_name in ['catalog_idx','images_array','mu_npe','cov_npe']:\n",
    "        array_copy = h5[data_name]\n",
    "        array_copy = np.delete(array_copy, h5_idx_to_remove, axis=0)\n",
    "        del h5[data_name]\n",
    "        h5.create_dataset(data_name, data=array_copy)\n",
    "    \n",
    "    h5.close()"
   ]
  },
  {
   "cell_type": "markdown",
   "id": "bcc3d7e9",
   "metadata": {},
   "source": []
  }
 ],
 "metadata": {
  "kernelspec": {
   "display_name": "forecast_env",
   "language": "python",
   "name": "python3"
  },
  "language_info": {
   "codemirror_mode": {
    "name": "ipython",
    "version": 3
   },
   "file_extension": ".py",
   "mimetype": "text/x-python",
   "name": "python",
   "nbconvert_exporter": "python",
   "pygments_lexer": "ipython3",
   "version": "3.9.19"
  }
 },
 "nbformat": 4,
 "nbformat_minor": 5
}
