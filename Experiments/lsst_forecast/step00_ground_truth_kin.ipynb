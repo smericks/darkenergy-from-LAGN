{
 "cells": [
  {
   "cell_type": "markdown",
   "id": "479470d1",
   "metadata": {},
   "source": [
    "# Step 0: Compute ground truth kinematics and add to catalog #\n",
    "\n",
    "### Note: This notebook runs in the forecast_env ###\n",
    "\n",
    "This is quite expensive, we'd really only like to do this once. Let's pre-compute and track it as we go..."
   ]
  },
  {
   "cell_type": "code",
   "execution_count": 1,
   "id": "39d6a445",
   "metadata": {},
   "outputs": [],
   "source": [
    "%load_ext autoreload\n",
    "%autoreload 2\n",
    "import pandas as pd\n",
    "import sys\n",
    "from astropy.cosmology import FlatLambdaCDM\n",
    "sys.path.insert(0, '/Users/smericks/Desktop/StrongLensing/darkenergy-from-LAGN/')\n",
    "import Utils.ground_truth_utils as gt_utils"
   ]
  },
  {
   "cell_type": "code",
   "execution_count": null,
   "id": "629c2c9e",
   "metadata": {},
   "outputs": [],
   "source": [
    "# ground truth cosmology\n",
    "gt_cosmo = FlatLambdaCDM(H0=70.,Om0=0.3)\n",
    "\n",
    "# take in om10 catalog\n",
    "lenses = pd.read_csv('DataVectors/om10_venkatraman25.csv')\n",
    "\n",
    "already_run = True # takes ~23mins to run, hence this flag \n",
    "\n",
    "if not already_run: \n",
    "    # add a column with kinematics\n",
    "    gt_utils.populate_truth_sigma_v_4MOST(lenses,gt_cosmo)\n",
    "\n",
    "    # re-save\n",
    "    lenses.to_csv('DataVectors/om10_venkatraman25_withkin.csv',index=False)"
   ]
  },
  {
   "cell_type": "code",
   "execution_count": null,
   "id": "49faa8c9",
   "metadata": {},
   "outputs": [],
   "source": []
  }
 ],
 "metadata": {
  "kernelspec": {
   "display_name": "forecast_env",
   "language": "python",
   "name": "python3"
  },
  "language_info": {
   "codemirror_mode": {
    "name": "ipython",
    "version": 3
   },
   "file_extension": ".py",
   "mimetype": "text/x-python",
   "name": "python",
   "nbconvert_exporter": "python",
   "pygments_lexer": "ipython3",
   "version": "3.9.19"
  }
 },
 "nbformat": 4,
 "nbformat_minor": 5
}
