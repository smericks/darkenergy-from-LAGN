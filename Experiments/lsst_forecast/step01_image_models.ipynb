{
 "cells": [
  {
   "cell_type": "markdown",
   "id": "b03718a5",
   "metadata": {},
   "source": [
    "# Step 1: Build the lens catalog with images, and produce NPE mass models #"
   ]
  },
  {
   "cell_type": "markdown",
   "id": "a2315e8e",
   "metadata": {},
   "source": [
    "### Note: This notebook runs in the paltas_preds_env ###\n",
    "\n",
    "This env is managed separately from the general forecast_env, since it relies on tensorflow"
   ]
  },
  {
   "cell_type": "code",
   "execution_count": null,
   "id": "92b65068",
   "metadata": {},
   "outputs": [],
   "source": [
    "%load_ext autoreload\n",
    "%autoreload 2\n",
    "import pandas as pd\n",
    "import numpy as np\n",
    "import matplotlib.pyplot as plt\n",
    "import h5py\n",
    "import sys\n",
    "sys.path.insert(0, '/Users/smericks/Desktop/StrongLensing/darkenergy-from-LAGN/')\n",
    "import Modeling.MassModels.paltas_preds as paltas_preds"
   ]
  },
  {
   "cell_type": "markdown",
   "id": "54ad3ca2",
   "metadata": {},
   "source": [
    "Load in pre-trained neural network modeler (one for HST quality, another for LSST quality)"
   ]
  },
  {
   "cell_type": "code",
   "execution_count": null,
   "id": "cd9275e8",
   "metadata": {},
   "outputs": [],
   "source": [
    "lsst_preds= paltas_preds.PaltasPreds('/Users/smericks/Desktop/StrongLensing/darkenergy-from-LAGN/Modeling/MassModels/lsst_training_config.py',\n",
    "    numpix=33,\n",
    "    model_weights='/Users/smericks/Desktop/StrongLensing/darkenergy-from-LAGN/Modeling/MassModels/_58--6.35_last.h5',#xresnet34_lsst_epoch76.h5',\n",
    "    model_norms='/Users/smericks/Desktop/StrongLensing/darkenergy-from-LAGN/Modeling/MassModels/norms_for_sydney.csv',\n",
    "    norm_images='norm')\n",
    "\n",
    "hst_preds = paltas_preds.PaltasPreds('/Users/smericks/Desktop/StrongLensing/darkenergy-from-LAGN/Modeling/MassModels/hst_training_config.py',\n",
    "    numpix=165,\n",
    "    model_weights='/Users/smericks/Desktop/StrongLensing/darkenergy-from-LAGN/Modeling/MassModels/xresnet34_hst_epoch72.h5',\n",
    "    model_norms='/Users/smericks/Desktop/StrongLensing/darkenergy-from-LAGN/Modeling/MassModels/hst_norms.csv')"
   ]
  },
  {
   "cell_type": "markdown",
   "id": "711c176b",
   "metadata": {},
   "source": [
    "Generate images, metadata, and NPE predictions"
   ]
  },
  {
   "cell_type": "code",
   "execution_count": null,
   "id": "126fd101",
   "metadata": {},
   "outputs": [],
   "source": [
    "# save images, preds, metadata\n",
    "lenses = pd.read_csv('DataVectors/om10_venkatraman25_withkin.csv')\n",
    "images_hst, metadata_list_hst, y_pred_hst, std_pred_hst, cov_pred_hst = hst_preds.preds_from_params(lenses)\n",
    "images_lsst, metadata_list_lsst, y_pred_lsst, std_pred_lsst, cov_pred_lsst = lsst_preds.preds_from_params(lenses)"
   ]
  },
  {
   "cell_type": "markdown",
   "id": "2694c04e",
   "metadata": {},
   "source": [
    "Construct metadata dataframes and add in pre-computed kinematics"
   ]
  },
  {
   "cell_type": "code",
   "execution_count": null,
   "id": "5f1be35e",
   "metadata": {},
   "outputs": [],
   "source": [
    "metadata_df_hst = pd.DataFrame(metadata_list_hst)\n",
    "metadata_df_lsst = pd.DataFrame(metadata_list_lsst)\n",
    "\n",
    "metadata_df_hst['sigma_v_4MOST_kmpersec'] = lenses.loc[:,'sigma_v_4MOST_kmpersec']\n",
    "metadata_df_lsst['sigma_v_4MOST_kmpersec'] = lenses.loc[:,'sigma_v_4MOST_kmpersec']"
   ]
  },
  {
   "cell_type": "markdown",
   "id": "95009efb",
   "metadata": {},
   "source": [
    "Deal with inconsistencies in number of image positions founds during lens equation solving \n",
    "\n",
    "(NOTE: I set the lens equation solver parameters to be identical, and I still see this issue. There must be some stochasticity in the process? Maybe in the random starting points? )"
   ]
  },
  {
   "cell_type": "code",
   "execution_count": null,
   "id": "0e142a8f",
   "metadata": {},
   "outputs": [],
   "source": [
    "plt.hist(metadata_df_hst.loc[:,'point_source_parameters_num_images'])\n",
    "plt.hist(metadata_df_lsst.loc[:,'point_source_parameters_num_images'])\n",
    "\n",
    "hst_num_images = metadata_df_hst.loc[:,'point_source_parameters_num_images'].to_numpy()\n",
    "lsst_num_images = metadata_df_lsst.loc[:,'point_source_parameters_num_images'].to_numpy()\n",
    "\n",
    "# cut lenses that don't have same # of image positions in both rounds of image generation\n",
    "indices_doubles = np.where((hst_num_images == 2) & (lsst_num_images == 2))[0]\n",
    "indices_quads = np.where((hst_num_images == 4) & (lsst_num_images == 4))[0]\n",
    "\n",
    "# final total indices\n",
    "lens_idxs = np.hstack((indices_doubles,indices_quads))\n",
    "\n",
    "# track a unique catalog_idx that will stay with the lens from now on...\n",
    "metadata_df_hst['catalog_idx'] = np.arange(0,len(metadata_df_hst))\n",
    "metadata_df_lsst['catalog_idx'] = np.arange(0,len(metadata_df_hst))\n",
    "\n",
    "# some debugging stuff...\n",
    "\"\"\"\n",
    "print('num HST quads: %d'%(np.sum(metadata_df_hst.loc[:,'point_source_parameters_num_images'] == 4)))\n",
    "print('num LSST quads: %d'%(np.sum(metadata_df_lsst.loc[:,'point_source_parameters_num_images'] == 4)))\n",
    "\n",
    "print('num HST doubles: %d'%(np.sum(metadata_df_hst.loc[:,'point_source_parameters_num_images'] == 2)))\n",
    "print('num LSST doubles: %d'%(np.sum(metadata_df_lsst.loc[:,'point_source_parameters_num_images'] == 2)))\n",
    "\n",
    "# check that they're the same quads\n",
    "indices_hst = metadata_df_hst.loc[metadata_df_hst['point_source_parameters_num_images'] == 2].index\n",
    "indices_lsst = metadata_df_lsst.loc[metadata_df_lsst['point_source_parameters_num_images'] == 2].index\n",
    "np.allclose(indices_hst,indices_lsst)\n",
    "\"\"\""
   ]
  },
  {
   "cell_type": "markdown",
   "id": "c76bcd73",
   "metadata": {},
   "source": [
    "Save information to .h5 files"
   ]
  },
  {
   "cell_type": "code",
   "execution_count": null,
   "id": "3287092d",
   "metadata": {},
   "outputs": [],
   "source": [
    "def save_h5(h5_path,catalog_idxs,images,mu_npe,cov_npe):\n",
    "    h5f = h5py.File(h5_path, 'w')\n",
    "    h5f.create_dataset('catalog_idx', data=catalog_idxs)\n",
    "    h5f.create_dataset('images_array', data=images)\n",
    "    h5f.create_dataset('mu_npe',data=mu_npe)\n",
    "    h5f.create_dataset('cov_npe',data=cov_npe)\n",
    "    h5f.close()\n",
    "\n",
    "\n",
    "# GOLD\n",
    "metadata_gold = metadata_df_hst.loc[lens_idxs]\n",
    "metadata_gold.to_csv('DataVectors/gold/truth_metadata.csv', index=False)\n",
    "save_h5('DataVectors/gold/image_models.h5',\n",
    "        catalog_idxs=metadata_gold.loc[:,'catalog_idx'].to_numpy(),\n",
    "        images=images_hst[lens_idxs],\n",
    "        mu_npe=y_pred_hst[lens_idxs],\n",
    "        cov_npe=cov_pred_hst[lens_idxs])\n",
    "\n",
    "# SILVER\n",
    "metadata_silver = metadata_df_lsst.loc[lens_idxs]\n",
    "metadata_silver.to_csv('DataVectors/silver/truth_metadata.csv', index=False)\n",
    "save_h5('DataVectors/silver/image_models.h5',\n",
    "        catalog_idxs=metadata_silver.loc[:,'catalog_idx'].to_numpy(),\n",
    "        images=images_lsst[lens_idxs],\n",
    "        mu_npe=y_pred_lsst[lens_idxs],\n",
    "        cov_npe=cov_pred_lsst[lens_idxs])\n"
   ]
  },
  {
   "cell_type": "markdown",
   "id": "8708e599",
   "metadata": {},
   "source": [
    "Sanity check the new silver-quality mass models"
   ]
  },
  {
   "cell_type": "code",
   "execution_count": null,
   "id": "cd471bac",
   "metadata": {},
   "outputs": [],
   "source": [
    "truth_gamma = metadata_silver.loc[:,'main_deflector_parameters_gamma'].to_numpy()\n",
    "pred_gamma = y_pred_lsst[lens_idxs,3]\n",
    "\n",
    "plt.scatter(truth_gamma,pred_gamma)\n",
    "x_low = 1.5\n",
    "x_high = 2.5\n",
    "plt.plot([x_low,x_high],[x_low,x_high],color='black')\n",
    "plt.xlim([x_low,x_high])\n",
    "plt.ylim([x_low,x_high])\n",
    "plt.xlabel('Truth gamma')\n",
    "plt.ylabel('Pred gamma')"
   ]
  },
  {
   "cell_type": "markdown",
   "id": "83bad9a3",
   "metadata": {},
   "source": []
  }
 ],
 "metadata": {
  "kernelspec": {
   "display_name": "paltas_preds_env",
   "language": "python",
   "name": "python3"
  },
  "language_info": {
   "codemirror_mode": {
    "name": "ipython",
    "version": 3
   },
   "file_extension": ".py",
   "mimetype": "text/x-python",
   "name": "python",
   "nbconvert_exporter": "python",
   "pygments_lexer": "ipython3",
   "version": "3.9.22"
  }
 },
 "nbformat": 4,
 "nbformat_minor": 5
}
